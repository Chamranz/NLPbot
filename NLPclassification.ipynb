{
  "nbformat": 4,
  "nbformat_minor": 0,
  "metadata": {
    "colab": {
      "provenance": []
    },
    "kernelspec": {
      "name": "python3",
      "display_name": "Python 3"
    },
    "language_info": {
      "name": "python"
    }
  },
  "cells": [
    {
      "cell_type": "code",
      "execution_count": null,
      "metadata": {
        "id": "_lG9xxE1UlkR"
      },
      "outputs": [],
      "source": [
        "from collections import defaultdict\n",
        "from sklearn.feature_extraction.text import TfidfVectorizer\n",
        "from sklearn.model_selection import train_test_split\n",
        "from sklearn.linear_model import LogisticRegression\n",
        "from sklearn.pipeline import Pipeline\n",
        "from sklearn.metrics import classification_report\n",
        "from sklearn.naive_bayes import MultinomialNB\n",
        "from sklearn.svm import SVC\n",
        "\n",
        "import gensim.downloader\n",
        "from gensim.models import Word2Vec, KeyedVectors\n",
        "from natasha import Doc, Segmenter, MorphVocab, NewsEmbedding, NewsMorphTagger\n",
        "\n",
        "import mlxtend\n",
        "from mlxtend.evaluate import paired_ttest_kfold_cv\n",
        "\n",
        "from plotly.offline import iplot\n",
        "import cufflinks as cf\n",
        "!pip install gensim\n",
        "import matplotlib.pyplot as plt\n",
        "import seaborn as sns\n",
        "import numpy as np\n",
        "import pandas as pd\n",
        "import datetime\n",
        "from wordcloud import WordCloud, STOPWORDS\n",
        "from google.colab import drive\n",
        "\n",
        "import nltk\n",
        "from nltk.corpus import stopwords\n",
        "nltk.download(\"stopwords\")\n",
        "\n",
        "sns.set(style=\"darkgrid\")\n",
        "%matplotlib inline\n",
        "cf.go_offline()\n",
        "cf.set_config_file(offline=False, world_readable=True)"
      ]
    },
    {
      "cell_type": "code",
      "source": [
        "!pip install natasha"
      ],
      "metadata": {
        "id": "DJjbqIFOW9kJ"
      },
      "execution_count": null,
      "outputs": []
    },
    {
      "cell_type": "code",
      "source": [
        "drive.mount('/content/drive')\n",
        "\n",
        "df = pd.read_csv('/content/drive/MyDrive/Collab/datasett.csv')\n",
        "\n",
        "\n",
        "print(f'Размер датасета: {df.shape}')\n",
        "df.head()"
      ],
      "metadata": {
        "id": "4dG_vGc-U0u-"
      },
      "execution_count": null,
      "outputs": []
    },
    {
      "cell_type": "code",
      "source": [
        "RND_STATE = 73"
      ],
      "metadata": {
        "id": "1V5CQGmNRh_c",
        "colab": {
          "base_uri": "https://localhost:8080/"
        },
        "outputId": "a697d0ed-500d-475a-8ae4-7ba27e2c20a6"
      },
      "execution_count": null,
      "outputs": [
        {
          "output_type": "execute_result",
          "data": {
            "text/plain": [
              "751"
            ]
          },
          "metadata": {},
          "execution_count": 27
        }
      ]
    },
    {
      "cell_type": "code",
      "source": [
        "segmenter = Segmenter()\n",
        "morh_vocab = MorphVocab()\n",
        "emb = NewsEmbedding()\n",
        "morph_tagger = NewsMorphTagger(emb)"
      ],
      "metadata": {
        "id": "1DVdgZ5NRmar"
      },
      "execution_count": null,
      "outputs": []
    },
    {
      "cell_type": "code",
      "source": [
        "def text_prep(text) -> str:\n",
        "    doc = Doc(text)\n",
        "    doc.segment(segmenter)\n",
        "    doc.tag_morph(morph_tagger)\n",
        "\n",
        "    for token in doc.tokens:\n",
        "        token.lemmatize(morh_vocab)\n",
        "\n",
        "    lemmas = [_.lemma for _ in doc.tokens]\n",
        "    words = [lemma for lemma in lemmas if lemma.isalpha() and len(lemma) > 2]\n",
        "    filtered_words = [word for word in words if word not in stop_words]\n",
        "    return \" \".join(filtered_words)"
      ],
      "metadata": {
        "id": "MN3xhZNZSExi"
      },
      "execution_count": null,
      "outputs": []
    },
    {
      "cell_type": "code",
      "source": [
        "%%time\n",
        "df['content'] = df.content.apply(text_prep)"
      ],
      "metadata": {
        "colab": {
          "base_uri": "https://localhost:8080/"
        },
        "id": "ZUBOTYlaTSqr",
        "outputId": "7365b8ae-3745-4583-8ea4-c58d7fb31968"
      },
      "execution_count": null,
      "outputs": [
        {
          "output_type": "stream",
          "name": "stdout",
          "text": [
            "CPU times: user 35.1 s, sys: 20.2 s, total: 55.4 s\n",
            "Wall time: 32.7 s\n"
          ]
        }
      ]
    },
    {
      "cell_type": "code",
      "source": [
        "df['content'][1]"
      ],
      "metadata": {
        "colab": {
          "base_uri": "https://localhost:8080/",
          "height": 143
        },
        "id": "NKLK8_j0ub6X",
        "outputId": "59109ef6-2f1f-449d-fe1a-3cbe83e85044"
      },
      "execution_count": null,
      "outputs": [
        {
          "output_type": "execute_result",
          "data": {
            "text/plain": [
              "'февраль россия отмечать день победа сталинградский битва мир день сурок православный веровать вспоминать евфимий лик лента рассказывать праздник отмечать февраль год россия страна знаменитость родиться день праздник россия праздник мирекака церковный праздник сегодняпримет февралякто родиться февраляпраздник россия день разгром советский войско войско сталинградский битвефонтан бармалей привокзальный площадь сталинград август годафото эммануил евзерихин риа новостисталинградский битва начаться июль год закончиться февраль год поражение фашистский блок сталинград подорвать доверие германия сторона союзник способствовать активизация движение сопротивление страна европа день буква относительно новый буква русский алфавит греческий азбука позаимствовать больший часть буква отсутствовать древний кириллический текст xiv век иметь собственный начертание записываться ерь ера приписать буква слитный написание полноценный статус буква приобрести поздний текст праздник миредень суркафото barry reeger праздник отмечать преимущественно соединить штат америка канада ежегодно февраль множество человек разный уголок мир наблюдать поведение сурок пробуждаться долгий зимний сон согласно поверье зверек смело выйти наружу значить весна наступить скоро скрыться норка испугаться собственный тень зима продлиться шесть неделя всемирный день угодийк угодье относиться широкий круг местообитание болото пойма река озеро приморский участок подводный морской луг коралловый риф морской акватория глубина метр отлив некоторый водный объект создать человек занимать процент поверхность суша угодье обитать половина вид флора фауна праздник отмечать мир февраль день день ездовой собака день отказ ненужный отношение всемирный день гавайский гитара церковный праздник сегодняд мяти евфимий лик фото public domain wikipedia евфимий великий наряду антоний макарий пахомие прозвать великое считаться столп пустынножительство основатель монашеский общежитие иметь множество последователь основать посреди пустынь монастырь кончина захоронить мощь преподобный предание гласить перейти царствие небесный евфимий совершать чудо жизнь церковный праздник отмечать февраль лич cpe примета февралян русь февраль называть ефимьев день ефимий зимний время обычно начинаться похолодание кошка скрести пол кура беспокойно махать хвост сильный ветер снег ветер выть труба плакать душа усопший буря срывать крыша почивший предок гневаться полдень светить солнце лето дождливый дуть сильный ветер год влажный родиться февралявалерия чкалов фото владимир гребнев риа новостисоветский год чкалов совершить первый беспосадочный перелет северный полюс москва ванкувер штат вашингтон сша значение событие большой точка зрение летный дело позиция развитие отношение октябрьский революция сша долгий время отказываться признавать молодой советский государство шакир год известный латиноамериканский певица добиться успех начало испаноязычный англоязычный музыкальный рынок автор песня танцовщица музыкальный продюсер хореограф модель творчество шакир сочетать элемент латиноамериканский арабский мотив родиться февраль михаил фрунзе революционер военачальник красный армия валерий карпин год российский тренер футбол анастасия давыдов год российский синхронистка тренер жерар пик год испанский футболист юлия михальчик год российский певица'"
            ],
            "application/vnd.google.colaboratory.intrinsic+json": {
              "type": "string"
            }
          },
          "metadata": {},
          "execution_count": 28
        }
      ]
    },
    {
      "cell_type": "code",
      "source": [
        "model = Word2Vec(sentences=df.content.str.split(),\n",
        "                 vector_size=200,\n",
        "                 min_count=10,\n",
        "                 window=2,\n",
        "                 seed=RND_STATE)"
      ],
      "metadata": {
        "id": "YToOVFiBc_J4"
      },
      "execution_count": null,
      "outputs": []
    },
    {
      "cell_type": "code",
      "source": [
        "model.wv.most_similar(positive=[\"заявить\"])  #можно посмотреть и даже поэксперементировать"
      ],
      "metadata": {
        "colab": {
          "base_uri": "https://localhost:8080/"
        },
        "id": "Xjsl13M6dM6O",
        "outputId": "33148034-2171-4857-a771-6c7c5aec4fb8"
      },
      "execution_count": null,
      "outputs": [
        {
          "output_type": "execute_result",
          "data": {
            "text/plain": [
              "[('переговоры', 0.9995509386062622),\n",
              " ('американский', 0.9995319843292236),\n",
              " ('власть', 0.9995073080062866),\n",
              " ('бывший', 0.9994899034500122),\n",
              " ('подчеркнуть', 0.999484658241272),\n",
              " ('мнение', 0.999477744102478),\n",
              " ('администрация', 0.9994760155677795),\n",
              " ('хотеть', 0.9994701743125916),\n",
              " ('предложить', 0.9994678497314453),\n",
              " ('страна', 0.999463677406311)]"
            ]
          },
          "metadata": {},
          "execution_count": 34
        }
      ]
    },
    {
      "cell_type": "code",
      "source": [
        "X_train, X_test, Y_train, Y_test = train_test_split(df.content.str.split(), df.tag.values, random_state=RND_STATE)\n",
        "\n",
        "model = Word2Vec(sentences=X_train,\n",
        "                 vector_size=200,\n",
        "                 min_count=10,\n",
        "                 window=2,\n",
        "                 seed=RND_STATE)"
      ],
      "metadata": {
        "id": "mwRTpmDfdyj-"
      },
      "execution_count": null,
      "outputs": []
    },
    {
      "cell_type": "code",
      "source": [
        "class MeanEmbeddingVectorizer(object):\n",
        "\n",
        "  def __init__(self,model):\n",
        "    self.word2vec = model.wv\n",
        "    self.dim = model.vector_size\n",
        "\n",
        "  def fit(self, X, y):\n",
        "    return self\n",
        "\n",
        "  def transform(self, X):\n",
        "    return np.array([\n",
        "        np.mean([self.word2vec.get_vector(w)\n",
        "          for w in words if w in self.word2vec] or\n",
        "          [np.zeros(self.dim)], axis=0)\n",
        "        for words in X\n",
        "    ])\n"
      ],
      "metadata": {
        "id": "-MEZ-3Y_vwPK"
      },
      "execution_count": null,
      "outputs": []
    },
    {
      "cell_type": "code",
      "source": [
        "pipe = Pipeline([('w2v', MeanEmbeddingVectorizer(model)),\n",
        "                 ('clf', LogisticRegression(max_iter=1000, random_state=RND_STATE))])\n",
        "pipe.fit(X_train, Y_train)\n",
        "\n",
        "print(classification_report(Y_test, pipe.predict(X_test)))"
      ],
      "metadata": {
        "colab": {
          "base_uri": "https://localhost:8080/"
        },
        "id": "ZlBSJXfS0dfy",
        "outputId": "803a5b64-42a2-4288-ffb2-9f66bcb8232a"
      },
      "execution_count": null,
      "outputs": [
        {
          "output_type": "stream",
          "name": "stdout",
          "text": [
            "                   precision    recall  f1-score   support\n",
            "\n",
            "      Бывший СССР       0.00      0.00      0.00        30\n",
            "    Забота о себе       0.00      0.00      0.00         6\n",
            "         Из жизни       0.00      0.00      0.00         4\n",
            "   Интернет и СМИ       0.00      0.00      0.00        12\n",
            "         Культура       0.00      0.00      0.00         1\n",
            "              Мир       0.32      0.96      0.48        57\n",
            "  Наука и техника       0.00      0.00      0.00        10\n",
            "      Путешествия       0.00      0.00      0.00         5\n",
            "           Россия       0.07      0.03      0.04        33\n",
            "Силовые структуры       0.00      0.00      0.00         7\n",
            "            Спорт       0.00      0.00      0.00         8\n",
            "         Ценности       0.00      0.00      0.00         5\n",
            "        Экономика       0.00      0.00      0.00        10\n",
            "\n",
            "         accuracy                           0.30       188\n",
            "        macro avg       0.03      0.08      0.04       188\n",
            "     weighted avg       0.11      0.30      0.15       188\n",
            "\n"
          ]
        },
        {
          "output_type": "stream",
          "name": "stderr",
          "text": [
            "/usr/local/lib/python3.11/dist-packages/sklearn/metrics/_classification.py:1565: UndefinedMetricWarning:\n",
            "\n",
            "Precision is ill-defined and being set to 0.0 in labels with no predicted samples. Use `zero_division` parameter to control this behavior.\n",
            "\n",
            "/usr/local/lib/python3.11/dist-packages/sklearn/metrics/_classification.py:1565: UndefinedMetricWarning:\n",
            "\n",
            "Precision is ill-defined and being set to 0.0 in labels with no predicted samples. Use `zero_division` parameter to control this behavior.\n",
            "\n",
            "/usr/local/lib/python3.11/dist-packages/sklearn/metrics/_classification.py:1565: UndefinedMetricWarning:\n",
            "\n",
            "Precision is ill-defined and being set to 0.0 in labels with no predicted samples. Use `zero_division` parameter to control this behavior.\n",
            "\n"
          ]
        }
      ]
    },
    {
      "cell_type": "code",
      "source": [
        "class TfidfEmbeddingVectorizer(object):\n",
        "\n",
        "  def __init__(self, model):\n",
        "    self.word2vec = model.wv\n",
        "    self.word2weight = None\n",
        "    self.dim = model.vector_size\n",
        "\n",
        "  def fit(self, X, y):\n",
        "    tfidf = TfidfVectorizer(analyzer=lambda x: x)\n",
        "    tfidf.fit(X)\n",
        "\n",
        "    max_idf = max(tfidf.idf_)\n",
        "    self.word2weight = defaultdict(lambda: max_idf, [(w, tfidf.idf_[i]) for w, i in tfidf.vocabulary_.items()])\n",
        "\n",
        "    return self\n",
        "\n",
        "  def transform(self, X):\n",
        "    return np.array([\n",
        "            np.mean([self.word2vec.get_vector(w) * self.word2weight[w]\n",
        "                    for w in words if w in self.word2vec] or\n",
        "                  [np.zeros(self.dim)], axis=0)\n",
        "          for words in X\n",
        "    ])"
      ],
      "metadata": {
        "id": "g53ebmsBKaDH"
      },
      "execution_count": null,
      "outputs": []
    },
    {
      "cell_type": "code",
      "source": [
        "pipe = Pipeline([('w2v', TfidfEmbeddingVectorizer(model)),\n",
        "                 ('clf', LogisticRegression(random_state=RND_STATE, max_iter=10000))])\n",
        "\n",
        "pipe.fit(X_train, Y_train)\n",
        "\n",
        "print(classification_report(Y_test, pipe.predict(X_test)))"
      ],
      "metadata": {
        "colab": {
          "base_uri": "https://localhost:8080/"
        },
        "id": "7Xw083UsQXV-",
        "outputId": "569c6a04-6732-4ff4-e3ac-10912a183d9b"
      },
      "execution_count": null,
      "outputs": [
        {
          "output_type": "stream",
          "name": "stdout",
          "text": [
            "                   precision    recall  f1-score   support\n",
            "\n",
            "      Бывший СССР       0.00      0.00      0.00        30\n",
            "    Забота о себе       0.00      0.00      0.00         6\n",
            "         Из жизни       0.00      0.00      0.00         4\n",
            "   Интернет и СМИ       0.00      0.00      0.00        12\n",
            "         Культура       0.00      0.00      0.00         1\n",
            "              Мир       0.35      0.95      0.51        57\n",
            "  Наука и техника       0.00      0.00      0.00        10\n",
            "      Путешествия       0.00      0.00      0.00         5\n",
            "           Россия       0.34      0.33      0.34        33\n",
            "Силовые структуры       0.00      0.00      0.00         7\n",
            "            Спорт       0.00      0.00      0.00         8\n",
            "         Ценности       0.00      0.00      0.00         5\n",
            "        Экономика       0.00      0.00      0.00        10\n",
            "\n",
            "         accuracy                           0.35       188\n",
            "        macro avg       0.05      0.10      0.07       188\n",
            "     weighted avg       0.17      0.35      0.21       188\n",
            "\n"
          ]
        },
        {
          "output_type": "stream",
          "name": "stderr",
          "text": [
            "/usr/local/lib/python3.11/dist-packages/sklearn/metrics/_classification.py:1565: UndefinedMetricWarning:\n",
            "\n",
            "Precision is ill-defined and being set to 0.0 in labels with no predicted samples. Use `zero_division` parameter to control this behavior.\n",
            "\n",
            "/usr/local/lib/python3.11/dist-packages/sklearn/metrics/_classification.py:1565: UndefinedMetricWarning:\n",
            "\n",
            "Precision is ill-defined and being set to 0.0 in labels with no predicted samples. Use `zero_division` parameter to control this behavior.\n",
            "\n",
            "/usr/local/lib/python3.11/dist-packages/sklearn/metrics/_classification.py:1565: UndefinedMetricWarning:\n",
            "\n",
            "Precision is ill-defined and being set to 0.0 in labels with no predicted samples. Use `zero_division` parameter to control this behavior.\n",
            "\n"
          ]
        }
      ]
    },
    {
      "cell_type": "code",
      "source": [
        "from sklearn.metrics import confusion_matrix, ConfusionMatrixDisplay\n",
        "\n",
        "cm = confusion_matrix(Y_test, pipe.predict(X_test), labels = pipe.classes_)\n",
        "\n",
        "cm_df = pd.DataFrame(data=cm, columns = pipe.classes_, index=pipe.classes_)\n",
        "\n",
        "plt.figure(figsize=(16, 4))\n",
        "\n",
        "sns.heatmap(cm_df, square=False, annot=False, cmap='Blues', fmt='d', cbar=False)"
      ],
      "metadata": {
        "colab": {
          "base_uri": "https://localhost:8080/",
          "height": 495
        },
        "id": "075YThYcSyPA",
        "outputId": "79f68e80-71b3-446f-bf5c-b619c04540bd"
      },
      "execution_count": null,
      "outputs": [
        {
          "output_type": "execute_result",
          "data": {
            "text/plain": [
              "<Axes: >"
            ]
          },
          "metadata": {},
          "execution_count": 75
        },
        {
          "output_type": "display_data",
          "data": {
            "text/plain": [
              "<Figure size 1600x400 with 1 Axes>"
            ],
            "image/png": "[encoded data removed]"
          },
          "metadata": {}
        }
      ]
    }
  ]
}